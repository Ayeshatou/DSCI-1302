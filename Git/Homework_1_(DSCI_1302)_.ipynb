{
  "nbformat": 4,
  "nbformat_minor": 0,
  "metadata": {
    "colab": {
      "name": "Homework 1 (DSCI 1302) .ipynb",
      "provenance": []
    },
    "kernelspec": {
      "name": "python3",
      "display_name": "Python 3"
    },
    "language_info": {
      "name": "python"
    }
  },
  "cells": [
    {
      "cell_type": "markdown",
      "source": [
        "# Question 1"
      ],
      "metadata": {
        "id": "Jc9204ilGOB4"
      }
    },
    {
      "cell_type": "code",
      "source": [
        "import numpy as np"
      ],
      "metadata": {
        "id": "LZloJxlQJv7V"
      },
      "execution_count": 2,
      "outputs": []
    },
    {
      "cell_type": "code",
      "source": [
        "a = np.array([[0,0,1,0],\n",
        "              [1,0,0,0],\n",
        "              [0,1,0,0],\n",
        "              [0,0,0,1]])\n",
        "b = np.array([[1],\n",
        "              [2],\n",
        "              [3],\n",
        "              [4]])\n",
        "c = a.dot(b)\n",
        "print('The matrix of A ')\n",
        "print(a)\n",
        "print('The matrix of B')\n",
        "print(b)\n",
        "print('Both A & B')\n",
        "print(c)"
      ],
      "metadata": {
        "colab": {
          "base_uri": "https://localhost:8080/"
        },
        "id": "CKsl9vpXn-H2",
        "outputId": "f47bb35a-c045-4e02-9c35-5f62dd8a1005"
      },
      "execution_count": 10,
      "outputs": [
        {
          "output_type": "stream",
          "name": "stdout",
          "text": [
            "The matrix of A \n",
            "[[0 0 1 0]\n",
            " [1 0 0 0]\n",
            " [0 1 0 0]\n",
            " [0 0 0 1]]\n",
            "The matrix of B\n",
            "[[1]\n",
            " [2]\n",
            " [3]\n",
            " [4]]\n",
            "Both A & B\n",
            "[[3]\n",
            " [1]\n",
            " [2]\n",
            " [4]]\n"
          ]
        }
      ]
    },
    {
      "cell_type": "code",
      "execution_count": 19,
      "metadata": {
        "colab": {
          "base_uri": "https://localhost:8080/"
        },
        "id": "maeEUeY3GNWc",
        "outputId": "acd0f2bb-f10f-4b77-eb40-e914f8671003"
      },
      "outputs": [
        {
          "output_type": "stream",
          "name": "stdout",
          "text": [
            "Matrix A\n",
            "[8 8 6]\n",
            "Matrix B\n",
            "[[5 2]\n",
            " [1 3]\n",
            " [6 5]]\n",
            "Both Matrix A & B\n",
            "[84 70]\n"
          ]
        }
      ],
      "source": [
        "a = np.array([8, 8, 6])\n",
        "b = np.array([[5, 2],\n",
        "              [1, 3],\n",
        "              [6, 5]])\n",
        "c = a.dot(b)\n",
        "print('Matrix A')\n",
        "print(a)\n",
        "print('Matrix B')\n",
        "print(b)\n",
        "print('Both Matrix A & B')\n",
        "print(c)"
      ]
    },
    {
      "cell_type": "code",
      "source": [
        "a = np.array([[1, 1],[2, 0]])\n",
        "b = np.array([[0, 2, 3], [1, 1, 2]])\n",
        "c = a.dot(b)\n",
        "print('Matrix A')\n",
        "print(a)\n",
        "print('Matrix B')\n",
        "print(b)\n",
        "print('Matrix A & B')\n",
        "print(c)"
      ],
      "metadata": {
        "colab": {
          "base_uri": "https://localhost:8080/"
        },
        "id": "oLXL2u9vqi0C",
        "outputId": "e225a952-964a-47eb-cc79-15eb09253487"
      },
      "execution_count": 24,
      "outputs": [
        {
          "output_type": "stream",
          "name": "stdout",
          "text": [
            "Matrix A\n",
            "[[1 1]\n",
            " [2 0]]\n",
            "Matrix B\n",
            "[[0 2 3]\n",
            " [1 1 2]]\n",
            "Matrix A & B\n",
            "[[1 3 5]\n",
            " [0 4 6]]\n"
          ]
        }
      ]
    },
    {
      "cell_type": "markdown",
      "source": [
        "# Question 2 "
      ],
      "metadata": {
        "id": "WjEnBeB8eSg9"
      }
    },
    {
      "cell_type": "code",
      "source": [
        "'''\n",
        "The benefits of using NumPy :\n",
        "1 ) Can use mathematical operation\n",
        "2 ) Less memory to store data \n",
        "3) Find element quicker\n",
        "'''"
      ],
      "metadata": {
        "id": "bK7sBk8_1ThA"
      },
      "execution_count": null,
      "outputs": []
    },
    {
      "cell_type": "markdown",
      "source": [
        "# Question 3\n"
      ],
      "metadata": {
        "id": "vEZ7JCMNeWE7"
      }
    },
    {
      "cell_type": "code",
      "source": [
        "'''\n",
        "Git Add : Command adds new or changed files \n",
        "\n",
        "Git Commit: snapshot of the repo at a specific time \n",
        "\n",
        "Git Pull: Uploading local repo content to a remote repository \n",
        "\n",
        "Git Push: Transfer commits from local repository to a remote repository \n",
        "\n",
        "Git Status: Displays the state of the working directory and the staging area\n",
        "'''"
      ],
      "metadata": {
        "id": "Whh5tdJceWcL"
      },
      "execution_count": null,
      "outputs": []
    },
    {
      "cell_type": "markdown",
      "source": [
        "# Question 4\n"
      ],
      "metadata": {
        "id": "GcVGoOKnebDc"
      }
    },
    {
      "cell_type": "code",
      "source": [
        "'''\n",
        "Python types are mutable : \n",
        "List \n",
        "Dictionary \n",
        "'''\n"
      ],
      "metadata": {
        "id": "iBw4ocd-edXE"
      },
      "execution_count": null,
      "outputs": []
    },
    {
      "cell_type": "markdown",
      "source": [
        "# Question 5"
      ],
      "metadata": {
        "id": "CXHCnmhVGRwu"
      }
    },
    {
      "cell_type": "code",
      "source": [
        "def f (b):\n",
        "  return a*b\n",
        "a = 0 \n",
        "\n",
        "print('f(3) = {}'.format(f(3)))\n",
        "print('a is {}'.format(a))\n",
        "  "
      ],
      "metadata": {
        "colab": {
          "base_uri": "https://localhost:8080/"
        },
        "id": "d0mirKSrGSF3",
        "outputId": "e7803bfe-3038-41aa-fc21-a3eaacfa90f0"
      },
      "execution_count": null,
      "outputs": [
        {
          "output_type": "stream",
          "name": "stdout",
          "text": [
            "f(3) = 0\n",
            "a is 0\n"
          ]
        }
      ]
    },
    {
      "cell_type": "code",
      "source": [
        "def f(b):\n",
        "   a = 6 \n",
        "   return a*b\n",
        "\n",
        "a = 0 \n",
        "print('f(3) = {}'.format(f(3)))\n",
        "print('a is {}'.format(a))"
      ],
      "metadata": {
        "colab": {
          "base_uri": "https://localhost:8080/"
        },
        "id": "O3rpuLLnHgt0",
        "outputId": "35249667-a682-4ebf-cd3d-237c690cef66"
      },
      "execution_count": null,
      "outputs": [
        {
          "output_type": "stream",
          "name": "stdout",
          "text": [
            "f(3) = 18\n",
            "a is 0\n"
          ]
        }
      ]
    },
    {
      "cell_type": "markdown",
      "source": [
        "# Question 6"
      ],
      "metadata": {
        "id": "52CQ68gRGSb_"
      }
    },
    {
      "cell_type": "code",
      "source": [
        "# Exception ArithmeticError\n",
        "try: \n",
        "  a = 10/0\n",
        "  print(a)\n",
        "except ArithmeticError:\n",
        "  print(\"This statement is raising an arithmetic expection.\")\n",
        "else:\n",
        "  print(\"Success\")"
      ],
      "metadata": {
        "id": "LwX0srs4GStu",
        "colab": {
          "base_uri": "https://localhost:8080/"
        },
        "outputId": "155c146f-fe44-4963-c7e7-7d388187a7a1"
      },
      "execution_count": null,
      "outputs": [
        {
          "output_type": "stream",
          "name": "stdout",
          "text": [
            "This statement is raising an arithmetic expection.\n"
          ]
        }
      ]
    },
    {
      "cell_type": "code",
      "source": [
        "# Exception LookupError\n",
        "try:\n",
        "  a = [1, 2, 3]\n",
        "  print(a[3])\n",
        "except LookupError:\n",
        "  print(\"Index out of bound error \")\n",
        "else:\n",
        "  print(\"Success\")"
      ],
      "metadata": {
        "id": "hjVB81l3Om4b",
        "colab": {
          "base_uri": "https://localhost:8080/"
        },
        "outputId": "6306b7fb-1917-48f0-bb61-a4acac0dfd8b"
      },
      "execution_count": null,
      "outputs": [
        {
          "output_type": "stream",
          "name": "stdout",
          "text": [
            "Index out of bound error \n"
          ]
        }
      ]
    },
    {
      "cell_type": "code",
      "source": [
        "#Exception SyntaxError\n",
        "try:\n",
        "\tprint (eval('geeks for geeks'))\n",
        "except SyntaxError, err:\n",
        "\tprint ('Syntax error %s (%s-%s): %s' % \\\n",
        "\t\t(err.filename, err.lineno, err.offset, err.text))\n",
        "\tprint (err)\n"
      ],
      "metadata": {
        "colab": {
          "base_uri": "https://localhost:8080/",
          "height": 130
        },
        "id": "wppTPS8E2cyA",
        "outputId": "012263ce-b25a-4a4c-8521-13582b06c3c1"
      },
      "execution_count": null,
      "outputs": [
        {
          "output_type": "error",
          "ename": "SyntaxError",
          "evalue": "ignored",
          "traceback": [
            "\u001b[0;36m  File \u001b[0;32m\"<ipython-input-1-9eae7d190c68>\"\u001b[0;36m, line \u001b[0;32m4\u001b[0m\n\u001b[0;31m    except SyntaxError, err:\u001b[0m\n\u001b[0m                      ^\u001b[0m\n\u001b[0;31mSyntaxError\u001b[0m\u001b[0;31m:\u001b[0m invalid syntax\n"
          ]
        }
      ]
    },
    {
      "cell_type": "markdown",
      "source": [
        "# Queston 7"
      ],
      "metadata": {
        "id": "UqnQydw4efTc"
      }
    },
    {
      "cell_type": "code",
      "source": [
        "'''\n",
        "Numpy Data Types:\n",
        "\n",
        "Booleans = (bool)\n",
        "\n",
        "integers =  (int)\n",
        "\n",
        "unsigned integers = (uint)\n",
        "\n",
        "single = (float)\n",
        "\n",
        "csingle = (float complex)\n",
        "'''"
      ],
      "metadata": {
        "id": "CElXRTzEeiI8"
      },
      "execution_count": null,
      "outputs": []
    },
    {
      "cell_type": "markdown",
      "source": [
        "# Question 8"
      ],
      "metadata": {
        "id": "6SXcEk_1eink"
      }
    },
    {
      "cell_type": "code",
      "source": [
        "gArray = np.array([[79., 95., 60.,],\n",
        "                   [95., 60., 61.],\n",
        "                   [99., 67., 84.],\n",
        "                   [76., 76., 97.],\n",
        "                   [91., 84., 98.],\n",
        "                   [70., 69., 96.],\n",
        "                   [88., 65., 76.],\n",
        "                   [67., 73., 80.],\n",
        "                   [82., 89., 61.],\n",
        "                   [94., 67., 88.]\n",
        "                   ])\n",
        "print(gArray)\n",
        "# This printing all the floating numbers in the array "
      ],
      "metadata": {
        "colab": {
          "base_uri": "https://localhost:8080/"
        },
        "id": "LtAgiVO-emGB",
        "outputId": "c6dc2b09-0297-4fd6-ce25-b0d46a5654ea"
      },
      "execution_count": null,
      "outputs": [
        {
          "output_type": "stream",
          "name": "stdout",
          "text": [
            "[[79. 95. 60.]\n",
            " [95. 60. 61.]\n",
            " [99. 67. 84.]\n",
            " [76. 76. 97.]\n",
            " [91. 84. 98.]\n",
            " [70. 69. 96.]\n",
            " [88. 65. 76.]\n",
            " [67. 73. 80.]\n",
            " [82. 89. 61.]\n",
            " [94. 67. 88.]]\n"
          ]
        }
      ]
    },
    {
      "cell_type": "code",
      "source": [
        "arr = gArray[1:2, 2:3]\n",
        "print('This gArray[1:2, 2:3]:')\n",
        "print(arr)\n",
        "# This slicing between two index from that is between 1 and 2, from 2 and 3\n",
        "print('\\nThis gArray[5:, :1]')\n",
        "arr = gArray[5:,:1]\n",
        "print(arr)\n",
        "# print a row of 5 & 1 \n",
        "print('\\nThis gArray[::5, ::2]')\n",
        "arr = gArray[::5, ::2]\n",
        "print(arr)\n",
        "# separte the end and start of the value between row 5 & 2 \n",
        "print('\\nThis gArray[gArray[:,0]>94]')\n",
        "arr = gArray[gArray[:,0] > 94]\n",
        "print(arr)\n",
        "# This print a row that is greater than 94"
      ],
      "metadata": {
        "colab": {
          "base_uri": "https://localhost:8080/"
        },
        "id": "qlGGf963xqXa",
        "outputId": "1316013d-c402-475a-ab1a-8adb5841c862"
      },
      "execution_count": null,
      "outputs": [
        {
          "output_type": "stream",
          "name": "stdout",
          "text": [
            "This gArray[1:2, 2:3]:\n",
            "[[61.]]\n",
            "\n",
            "This gArray[5:, :1]\n",
            "[[70.]\n",
            " [88.]\n",
            " [67.]\n",
            " [82.]\n",
            " [94.]]\n",
            "\n",
            "This gArray[::5, ::2]\n",
            "[[79. 60.]\n",
            " [70. 96.]]\n",
            "\n",
            "This gArray[gArray[:,0]>94]\n",
            "[[95. 60. 61.]\n",
            " [99. 67. 84.]]\n"
          ]
        }
      ]
    },
    {
      "cell_type": "markdown",
      "source": [
        "#Question 9"
      ],
      "metadata": {
        "id": "QhDatW4zemtQ"
      }
    },
    {
      "cell_type": "code",
      "source": [
        "# Five file Mode :\n",
        "'''\n",
        "r = open a file for reading \n",
        "\n",
        "w = open a file for writing \n",
        "\n",
        "b = opens a binary mode \n",
        "\n",
        "t = opens in text mode \n",
        "\n",
        "x = opens a file for exclusive creation \n",
        "'''"
      ],
      "metadata": {
        "id": "UJQgynfXepOw"
      },
      "execution_count": null,
      "outputs": []
    },
    {
      "cell_type": "markdown",
      "source": [
        "# Question 10"
      ],
      "metadata": {
        "id": "7qZoYOM5epmY"
      }
    },
    {
      "cell_type": "code",
      "source": [
        "# Questions: \n",
        "# Readlines() and readline?\n",
        "\n",
        "'''\n",
        "readline: Reads ibe line from the file and return it as a string \n",
        "\n",
        "readlines: returns the the content of the entire file as a list of strings \n",
        "'''"
      ],
      "metadata": {
        "id": "IVAZ1kOter1R"
      },
      "execution_count": null,
      "outputs": []
    },
    {
      "cell_type": "markdown",
      "source": [
        "# Question 11"
      ],
      "metadata": {
        "id": "rH1PNi8SvUd0"
      }
    },
    {
      "cell_type": "code",
      "source": [
        "'''\n",
        "Absolute name of Cano Folder: \n",
        "\n",
        "Relative pathname of Messi Folder: \n",
        "'''"
      ],
      "metadata": {
        "id": "wc_Wr2TqvTAc"
      },
      "execution_count": null,
      "outputs": []
    },
    {
      "cell_type": "markdown",
      "source": [
        "# Question 12"
      ],
      "metadata": {
        "id": "0GM93XTWvXvM"
      }
    },
    {
      "cell_type": "code",
      "source": [
        "'{:7.2f}'.format(100.5)\n",
        "\n",
        "#This mean that the adding a width while placing a limit the number of decimal place"
      ],
      "metadata": {
        "id": "2p4i7f3qvaej",
        "colab": {
          "base_uri": "https://localhost:8080/",
          "height": 35
        },
        "outputId": "b0164b01-ecf5-4686-b35e-15327533a145"
      },
      "execution_count": 1,
      "outputs": [
        {
          "output_type": "execute_result",
          "data": {
            "text/plain": [
              "' 100.50'"
            ],
            "application/vnd.google.colaboratory.intrinsic+json": {
              "type": "string"
            }
          },
          "metadata": {},
          "execution_count": 1
        }
      ]
    }
  ]
}